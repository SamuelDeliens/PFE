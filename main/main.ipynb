{
 "cells": [
  {
   "metadata": {
    "ExecuteTime": {
     "end_time": "2025-04-06T13:20:21.166557Z",
     "start_time": "2025-04-06T13:20:21.161406Z"
    }
   },
   "cell_type": "code",
   "source": [
    "import os\n",
    "import requests\n",
    "import json\n",
    "from dotenv import load_dotenv"
   ],
   "id": "fcbfada2cdc7c659",
   "outputs": [],
   "execution_count": 138
  },
  {
   "metadata": {
    "ExecuteTime": {
     "end_time": "2025-04-06T13:20:40.773331Z",
     "start_time": "2025-04-06T13:20:40.762851Z"
    }
   },
   "cell_type": "code",
   "source": [
    "load_dotenv()\n",
    "\n",
    "folder_path = os.getenv(\"DIRECTORY_PATH\")\n",
    "print(folder_path)\n",
    "\n",
    "base_url = \"https://api.mantiks.io/company/jobs\"\n",
    "api_key = os.getenv(\"MANTIKS_API_KEY\")\n",
    "print(api_key)"
   ],
   "id": "fe8c07a6a138c675",
   "outputs": [
    {
     "name": "stdout",
     "output_type": "stream",
     "text": [
      "../data/mantiks/\n",
      "gAAAAABn8XJhoJ9JmEp0m3QQkhV9IMlGaVK1KtQRSEqaeWk-qSpVQyvprPF948ezm3NV_pdoJXVXY_q63YjC0J5f-LLy-DyySQ==\n"
     ]
    }
   ],
   "execution_count": 141
  },
  {
   "metadata": {
    "ExecuteTime": {
     "end_time": "2025-04-06T13:35:37.783354Z",
     "start_time": "2025-04-06T13:35:37.774443Z"
    }
   },
   "cell_type": "code",
   "source": [
    "company_url = \"https://fr.linkedin.com/company/orange\"\n",
    "website_url = \"https://orange.jobs/\"\n",
    "\n",
    "age_in_days = 2147483647\n",
    "keyword = \"\"\n",
    "keyword_excluded = \"\""
   ],
   "id": "191d59be299db415",
   "outputs": [],
   "execution_count": 153
  },
  {
   "metadata": {
    "ExecuteTime": {
     "end_time": "2025-04-06T13:19:15.543084Z",
     "start_time": "2025-04-06T13:19:15.533593Z"
    }
   },
   "cell_type": "code",
   "source": [
    "def extract_company_name_from_url(url):\n",
    "    if \"linkedin.com/company/\" in url:\n",
    "        parts = url.split(\"linkedin.com/company/\")\n",
    "        if len(parts) > 1:\n",
    "            company_name = parts[1].split(\"&\")[0].split(\"/\")[0]\n",
    "            return company_name.replace(\"%20\", \" \")\n",
    "    \n",
    "    return \"company\""
   ],
   "id": "438d20909e9f083e",
   "outputs": [],
   "execution_count": 134
  },
  {
   "metadata": {
    "ExecuteTime": {
     "end_time": "2025-04-06T13:30:23.986566Z",
     "start_time": "2025-04-06T13:30:23.972081Z"
    }
   },
   "cell_type": "code",
   "source": [
    "def request_jobs(company_url, website_url, age_in_days, keyword, keyword_excluded):\n",
    "    headers = {\n",
    "        \"accept\": \"application/json\",\n",
    "        \"x-api-key\": api_key\n",
    "    }\n",
    "    \n",
    "    params = {}\n",
    "    \n",
    "    if company_url:\n",
    "        params[\"linkedin_url\"] = company_url\n",
    "    if website_url:\n",
    "        params[\"website\"] = website_url\n",
    "    if age_in_days:\n",
    "        params[\"age_in_days\"] = age_in_days\n",
    "    if keyword:\n",
    "        params[\"keyword\"] = keyword\n",
    "    if keyword_excluded:\n",
    "        params[\"keyword_excluded\"] = keyword_excluded\n",
    "\n",
    "    response = requests.get(base_url, headers=headers, params=params)\n",
    "    if response.status_code == 200:\n",
    "        return response.json()\n",
    "    else:\n",
    "        print(f\"Error: {response.status_code}, Response: {response.text}\")\n",
    "        return None"
   ],
   "id": "d0eb47c2f9d6027c",
   "outputs": [],
   "execution_count": 150
  },
  {
   "metadata": {
    "ExecuteTime": {
     "end_time": "2025-04-06T13:19:21.997016Z",
     "start_time": "2025-04-06T13:19:21.989509Z"
    }
   },
   "cell_type": "code",
   "source": [
    "def save_to_file(_company_name, data):\n",
    "    filename = os.path.join(folder_path, f\"{_company_name}_jobs.json\")\n",
    "    \n",
    "    with open(filename, 'w', encoding='utf-8') as f:\n",
    "        json.dump(data, f, ensure_ascii=False, indent=4)\n",
    "        \n",
    "    print(f\"Data saved to {filename}\")"
   ],
   "id": "74822bea22ab5587",
   "outputs": [],
   "execution_count": 136
  },
  {
   "metadata": {
    "ExecuteTime": {
     "end_time": "2025-04-06T13:35:47.006378Z",
     "start_time": "2025-04-06T13:35:44.701679Z"
    }
   },
   "cell_type": "code",
   "source": [
    "company_name = extract_company_name_from_url(company_url)\n",
    "\n",
    "result = request_jobs(company_url, website_url, age_in_days, keyword, keyword_excluded)\n",
    "\n",
    "if result:\n",
    "    print(f\"Number of jobs found: {len(result['jobs'])}\")\n",
    "    save_to_file(company_name, result)\n",
    "    print(f\"Credits remaining: {result['credits_remaining']}\")\n",
    "else:\n",
    "    print(\"No data was retrieved.\")"
   ],
   "id": "814fe2069dccf163",
   "outputs": [
    {
     "name": "stdout",
     "output_type": "stream",
     "text": [
      "Number of jobs found: 500\n",
      "Data saved to ../data/mantiks/orange_jobs.json\n",
      "Credits remaining: 48\n"
     ]
    }
   ],
   "execution_count": 154
  },
  {
   "metadata": {},
   "cell_type": "markdown",
   "source": "",
   "id": "19e8fbff2e03bb12"
  }
 ],
 "metadata": {
  "kernelspec": {
   "display_name": "Python 3",
   "language": "python",
   "name": "python3"
  },
  "language_info": {
   "codemirror_mode": {
    "name": "ipython",
    "version": 2
   },
   "file_extension": ".py",
   "mimetype": "text/x-python",
   "name": "python",
   "nbconvert_exporter": "python",
   "pygments_lexer": "ipython2",
   "version": "2.7.6"
  }
 },
 "nbformat": 4,
 "nbformat_minor": 5
}
